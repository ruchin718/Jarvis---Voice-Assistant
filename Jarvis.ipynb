{
  "nbformat": 4,
  "nbformat_minor": 0,
  "metadata": {
    "colab": {
      "name": "Jarvis.ipynb",
      "provenance": []
    },
    "kernelspec": {
      "name": "python3",
      "display_name": "Python 3"
    },
    "language_info": {
      "name": "python"
    }
  },
  "cells": [
    {
      "cell_type": "markdown",
      "source": [
        "# **Jarvis**"
      ],
      "metadata": {
        "id": "pKTI7vUjV2cd"
      }
    },
    {
      "cell_type": "markdown",
      "source": [
        "In this project we are going to build a voice assistant similar to Jarvis.\n",
        "Let us first understand what a voice-based chatbot is and how can we build one."
      ],
      "metadata": {
        "id": "7rbkxNTuV2ce"
      }
    },
    {
      "cell_type": "markdown",
      "source": [
        "A voice chatbot is a conversational AI communication tool that can capture, interpret, and analyse vocal input given by the speaker to respond in similar natural language. Users can interact with a voice AI chatbot with voice commands and receive contextualised, relevant responses."
      ],
      "metadata": {
        "id": "Ub-fAIEIV2ce"
      }
    },
    {
      "cell_type": "markdown",
      "source": [
        "Voice based personal assistants have gained a lot of popularity in this era of smart homes and smart devices. These personal assistants can be easily configured to perform many of your regular tasks by simply giving voice commands."
      ],
      "metadata": {
        "id": "oIIrJ5dOV2ce"
      }
    },
    {
      "cell_type": "markdown",
      "source": [
        "## Implementation of the Personal Assistant"
      ],
      "metadata": {
        "id": "FZv9laGIV2ce"
      }
    },
    {
      "cell_type": "markdown",
      "source": [
        "We are going to import the following packages"
      ],
      "metadata": {
        "id": "TsLPDljlV2cf"
      }
    },
    {
      "cell_type": "markdown",
      "source": [
        "SpeechRecognition \n",
        "\n",
        "Speech recognition is an important feature used in house automation and in artificial intelligence devices. The main function of this library is it tries to understand whatever the humans speak and converts the speech to text."
      ],
      "metadata": {
        "id": "VtvKw2DhV2cf"
      }
    },
    {
      "cell_type": "code",
      "execution_count": null,
      "metadata": {
        "id": "mQiAiNWOV2cf"
      },
      "outputs": [],
      "source": [
        "pip install SpeechRecognition"
      ]
    },
    {
      "cell_type": "markdown",
      "source": [
        "pyttsx3\n",
        "\n",
        "\n",
        "pyttsx3 is a text-to-speech conversion library in Python.This package supports text to speech engines on Mac os x, Windows and on Linux."
      ],
      "metadata": {
        "id": "KcBmIUogV2cf"
      }
    },
    {
      "cell_type": "code",
      "source": [
        "pip install pyttsx3"
      ],
      "metadata": {
        "id": "SADCSMR5V2cg"
      },
      "execution_count": null,
      "outputs": []
    },
    {
      "cell_type": "markdown",
      "source": [
        "PyAudio 0.2.11\n",
        "\n",
        "This is the cross-platform audio input/output stream library."
      ],
      "metadata": {
        "id": "hYz_h9PWV2cg"
      }
    },
    {
      "cell_type": "code",
      "source": [
        "pip install PyAudio"
      ],
      "metadata": {
        "id": "-np8ByNVV2cg"
      },
      "execution_count": null,
      "outputs": []
    },
    {
      "cell_type": "markdown",
      "source": [
        "We need to install the above 3 packages in our IDE\n",
        "For example if we are using PyCharm we will pip install the above 3 commnads in the Terminal. "
      ],
      "metadata": {
        "id": "j6WjQgIzV2cg"
      }
    },
    {
      "cell_type": "markdown",
      "source": [
        "Now we will import the Speech Recognition package as follows."
      ],
      "metadata": {
        "id": "DKenoCNNV2cg"
      }
    },
    {
      "cell_type": "code",
      "source": [
        "import speech_recognition as sr"
      ],
      "metadata": {
        "id": "ixUDSM2pV2cg"
      },
      "execution_count": null,
      "outputs": []
    },
    {
      "cell_type": "markdown",
      "source": [
        "Now we will create a Recognizer which will be able to recognize the voice as follows:"
      ],
      "metadata": {
        "id": "9Sm2v7j5V2ch"
      }
    },
    {
      "cell_type": "code",
      "source": [
        "listener = sr.Recognizer()"
      ],
      "metadata": {
        "id": "ZmHFn4cTV2ch"
      },
      "execution_count": null,
      "outputs": []
    },
    {
      "cell_type": "markdown",
      "source": [
        "Now we will create a try block as sometimes the microphone might not work or give you some error.\n",
        "\n",
        "Also we will create a except block and create a 'pass' in it so that Python will ignore or don't do anything when the exception happens.\n",
        "\n",
        "Using Microphone as source we will call the speech recognizer to listen to the source.\n",
        "\n",
        "We will pass the voice using the google api in a variable called as command to convert the voice to text. And then, we will print that command.\n",
        "\n",
        "We will also print out \"listening... so that we know our Microphone is ready to listen."
      ],
      "metadata": {
        "id": "76K14LbfV2ch"
      }
    },
    {
      "cell_type": "code",
      "source": [
        "listener = sr.Recognizer()\n",
        "try:\n",
        "  with sr.microphone as source:\n",
        "    print('Listening...')\n",
        "    voice=listener.listen(source)\n",
        "    command=listener.recognize_google(voice)\n",
        "    print(command)\n",
        "except:\n",
        "  pass"
      ],
      "metadata": {
        "id": "T2bdCz1VV2ch"
      },
      "execution_count": null,
      "outputs": []
    },
    {
      "cell_type": "markdown",
      "source": [
        "We will now covert the command to lower case using .lower() function.\n",
        "\n",
        "We don't want to print out Jarvis each time so we will convert the word Jarvis into a empty string using . replace() function as follows."
      ],
      "metadata": {
        "id": "9xH8H_WAV2ch"
      }
    },
    {
      "cell_type": "code",
      "source": [
        "command = command.lower()\n",
        "command = command.replace('Jarvis', '')"
      ],
      "metadata": {
        "id": "CsiEVamiV2ci"
      },
      "execution_count": null,
      "outputs": []
    },
    {
      "cell_type": "markdown",
      "source": [
        "Next, we will import the python text to speech version3 i.e. pyttxs3 the package we had previously installed.\n",
        "\n",
        "To do so we will create a engine and initialise it and pass it to a function called as talk."
      ],
      "metadata": {
        "id": "jHRrza7rV2ci"
      }
    },
    {
      "cell_type": "code",
      "source": [
        "import pyttsx3\n",
        "engine = pyttsx3.init()\n",
        "def talk(text):\n",
        "    engine.say(text)\n",
        "    engine.runAndWait()"
      ],
      "metadata": {
        "id": "kRdQKROcV2ci"
      },
      "execution_count": null,
      "outputs": []
    },
    {
      "cell_type": "markdown",
      "source": [
        "Next up, if we want to give our Voice Assistant a female voice we will first get all the voices using getProperty and then set the Property to a male voice just like Jarvis."
      ],
      "metadata": {
        "id": "WAvAy_zOV2ci"
      }
    },
    {
      "cell_type": "code",
      "source": [
        "voices = engine.getProperty('voices')\n",
        "engine.setProperty('voice', voices[0].id)"
      ],
      "metadata": {
        "id": "uSo03tToV2cj"
      },
      "execution_count": null,
      "outputs": []
    },
    {
      "cell_type": "markdown",
      "source": [
        "Now for Jarvis to run till the time we dont say bye or stop or end we will add this command."
      ],
      "metadata": {
        "id": "YDMfEnDHWjqt"
      }
    },
    {
      "cell_type": "code",
      "source": [
        "while True:\n",
        "    run_jarvis()"
      ],
      "metadata": {
        "id": "HZlGW1AdWnnE"
      },
      "execution_count": null,
      "outputs": []
    },
    {
      "cell_type": "markdown",
      "source": [
        "## Play a song"
      ],
      "metadata": {
        "id": "c9-uKtZDV2cj"
      }
    },
    {
      "cell_type": "markdown",
      "source": [
        "Now, we will define another function called as run_jarvis.\n",
        "\n",
        "Then, for jarvis to play a song we will check if play keyword is present in the command using a if condition.\n",
        "\n",
        "We will also remove the keyword play by using .replace() function."
      ],
      "metadata": {
        "id": "k4q1EGVRV2cj"
      }
    },
    {
      "cell_type": "code",
      "source": [
        "def run_jarvis():\n",
        "    command = take_command()\n",
        "    if 'play' in command:\n",
        "        song = command.replace('play', '')\n",
        "        talk('playing' + song)"
      ],
      "metadata": {
        "id": "wXBKwhFSV2cj"
      },
      "execution_count": null,
      "outputs": []
    },
    {
      "cell_type": "markdown",
      "source": [
        "To actually play a song we will install a package called as pywhatkit.\n",
        "\n",
        "we will install this package in the terminal using pip install and then import it."
      ],
      "metadata": {
        "id": "o7dhUcJ6V2cj"
      }
    },
    {
      "cell_type": "code",
      "source": [
        "pip install pywhatkit\n",
        "import pywhatkit"
      ],
      "metadata": {
        "id": "SUz4eWMbV2cj"
      },
      "execution_count": null,
      "outputs": []
    },
    {
      "cell_type": "markdown",
      "source": [
        "Now we can play the song on YouTube using the following command."
      ],
      "metadata": {
        "id": "O1ckybUVV2ck"
      }
    },
    {
      "cell_type": "code",
      "source": [
        "pywhatkit.playonyt(song)"
      ],
      "metadata": {
        "id": "flrdpzxmV2ck"
      },
      "execution_count": null,
      "outputs": []
    },
    {
      "cell_type": "markdown",
      "source": [
        "## Tell the current Time"
      ],
      "metadata": {
        "id": "yGxKg9eYV2ck"
      }
    },
    {
      "cell_type": "markdown",
      "source": [
        "To tell the current time we will import a python build-in package called as datetime."
      ],
      "metadata": {
        "id": "X2_ApMXsV2ck"
      }
    },
    {
      "cell_type": "markdown",
      "source": [
        "Datetime\n",
        "\n",
        "This is an inbuilt module in python and it works on date and time"
      ],
      "metadata": {
        "id": "PApDTa0aV2ck"
      }
    },
    {
      "cell_type": "code",
      "source": [
        "import datetime"
      ],
      "metadata": {
        "id": "a6Yi7KpqV2ck"
      },
      "execution_count": null,
      "outputs": []
    },
    {
      "cell_type": "markdown",
      "source": [
        "Now we will use the elseif condition and check whether the keyword time is present in the command and then tell current time in hours and mins. We will also print the time and jarvis will also tell the time in her voice."
      ],
      "metadata": {
        "id": "o4g3kfk_V2ck"
      }
    },
    {
      "cell_type": "code",
      "source": [
        "elif 'time' in command:\n",
        "  time = datetime.datetime.now().strftime('%H:%M %p')\n",
        "  print(time)\n",
        "  talk('Current time is ' + time)"
      ],
      "metadata": {
        "id": "aYE0iMueV2cl"
      },
      "execution_count": null,
      "outputs": []
    },
    {
      "cell_type": "markdown",
      "source": [
        "## Get info about various personalties using wikipedia"
      ],
      "metadata": {
        "id": "cS75JbX2V2cl"
      }
    },
    {
      "cell_type": "markdown",
      "source": [
        "Wikipedia\n",
        "\n",
        "Wikipedia is a multilingual online encyclopedia used by many people from academic community ranging from freshmen to students to professors who wants to gain information over a particular topic. This package in python extracts data’s required from Wikipedia."
      ],
      "metadata": {
        "id": "Hs-BB598V2cl"
      }
    },
    {
      "cell_type": "code",
      "source": [
        "pip install wikipedia"
      ],
      "metadata": {
        "id": "x7RzOUC_V2cl"
      },
      "execution_count": null,
      "outputs": []
    },
    {
      "cell_type": "code",
      "source": [
        "import wikipedia"
      ],
      "metadata": {
        "id": "K6kur_tZV2cl"
      },
      "execution_count": null,
      "outputs": []
    },
    {
      "cell_type": "markdown",
      "source": [
        "Once wikipedia is installed and imported we will serach if there is \"who is\" keyword in our command.\n",
        "Then we will get the summary of the prson in one line using .summar() function and then talk and print the info."
      ],
      "metadata": {
        "id": "3GCMqn6GV2cm"
      }
    },
    {
      "cell_type": "code",
      "source": [
        "elif 'who is' in command:\n",
        "  person = command.replace('who is', '')\n",
        "  info = wikipedia.summary(person, 1)\n",
        "  print(info)\n",
        "  talk(info)"
      ],
      "metadata": {
        "id": "g13cOq0DV2cm"
      },
      "execution_count": null,
      "outputs": []
    },
    {
      "cell_type": "markdown",
      "source": [
        "## Tell a joke"
      ],
      "metadata": {
        "id": "zcdmEZZ0V2cm"
      }
    },
    {
      "cell_type": "markdown",
      "source": [
        "Pyjokes\n",
        "\n",
        "Pyjokes is a python library that is used to create one-line jokes for programmers."
      ],
      "metadata": {
        "id": "gIhzIjxFV2cm"
      }
    },
    {
      "cell_type": "code",
      "source": [
        "pip install pyjokes"
      ],
      "metadata": {
        "id": "UOFxDE_1V2cm"
      },
      "execution_count": null,
      "outputs": []
    },
    {
      "cell_type": "code",
      "source": [
        "import pyjokes"
      ],
      "metadata": {
        "id": "G6iehyUJV2cm"
      },
      "execution_count": null,
      "outputs": []
    },
    {
      "cell_type": "code",
      "source": [
        "elif 'joke' in command:\n",
        "  joke = pyjokes.get_joke()\n",
        "  print(joke)\n",
        "  talk(joke)"
      ],
      "metadata": {
        "id": "AkkL5EwBV2cm"
      },
      "execution_count": null,
      "outputs": []
    },
    {
      "cell_type": "markdown",
      "source": [
        "## Open various websites "
      ],
      "metadata": {
        "id": "dPnpt60wV2cm"
      }
    },
    {
      "cell_type": "markdown",
      "source": [
        "Web browser \n",
        "\n",
        "This is an in-built package in python. It extracts data from the web"
      ],
      "metadata": {
        "id": "Al3WyMxRV2cn"
      }
    },
    {
      "cell_type": "code",
      "source": [
        "import webbrowser"
      ],
      "metadata": {
        "id": "M1tngjFVV2cn"
      },
      "execution_count": null,
      "outputs": []
    },
    {
      "cell_type": "code",
      "source": [
        "elif 'open youtube' in command:\n",
        "  webbrowser.open_new_tab(\"youtube.com\")\n",
        "\n",
        "elif 'open google' in command:\n",
        "  webbrowser.open_new_tab(\"google.com\")\n",
        "\n",
        "elif 'open gmail' in command:\n",
        "  cg= webbrowser.open_new_tab(\"gmail.com\")"
      ],
      "metadata": {
        "id": "YSzkjEu6V2cn"
      },
      "execution_count": null,
      "outputs": []
    },
    {
      "cell_type": "markdown",
      "source": [
        "## To read today's top headlines"
      ],
      "metadata": {
        "id": "rAaNDG2WV2cn"
      }
    },
    {
      "cell_type": "code",
      "source": [
        "elif 'news' in command:\n",
        "  news = webbrowser.open_new_tab(\"https://timesofindia.indiatimes.com/home/headlines\")\n",
        "  talk('Here are some headlines from the Times of India,Happy reading')"
      ],
      "metadata": {
        "id": "Zo5apvPSV2cn"
      },
      "execution_count": null,
      "outputs": []
    },
    {
      "cell_type": "markdown",
      "source": [
        "## Do a google search"
      ],
      "metadata": {
        "id": "O5-rTn-tV2cn"
      }
    },
    {
      "cell_type": "code",
      "source": [
        "elif 'search' in command:\n",
        "  text = command.replace(\"search\", \"\")\n",
        "  webbrowser.open_new_tab(text)"
      ],
      "metadata": {
        "id": "jPLkctBIV2cn"
      },
      "execution_count": null,
      "outputs": []
    },
    {
      "cell_type": "markdown",
      "source": [
        "## Stop/End command"
      ],
      "metadata": {
        "id": "YXAUX0nZV2co"
      }
    },
    {
      "cell_type": "markdown",
      "source": [
        "The sys module in Python provides various functions and variables that are used to manipulate different parts of the Python runtime environment."
      ],
      "metadata": {
        "id": "RYkwo6boV2co"
      }
    },
    {
      "cell_type": "code",
      "source": [
        "import sys"
      ],
      "metadata": {
        "id": "cI1Y_r3RV2co"
      },
      "execution_count": null,
      "outputs": []
    },
    {
      "cell_type": "code",
      "source": [
        "elif 'bye' in command:\n",
        "  bye = 'goodbye, take care'\n",
        "  print(bye)\n",
        "  talk(bye)\n",
        "  sys.exit()"
      ],
      "metadata": {
        "id": "YaEcuqwMV2co"
      },
      "execution_count": null,
      "outputs": []
    },
    {
      "cell_type": "markdown",
      "source": [
        "## Customization"
      ],
      "metadata": {
        "id": "nauxul68V2co"
      }
    },
    {
      "cell_type": "markdown",
      "source": [
        "We can customize our voice assistant as much as we want."
      ],
      "metadata": {
        "id": "6xVzNU4JV2co"
      }
    },
    {
      "cell_type": "markdown",
      "source": [
        "For example if I want the bot to respond to texts like hi/hey/hello I can simply add that using else if condition as follows."
      ],
      "metadata": {
        "id": "SW6ba29IV2co"
      }
    },
    {
      "cell_type": "code",
      "source": [
        "elif \"hi\" in command or \"hello\" in command or \"hey\" in command:\n",
        "  hey = 'Hey there, how can I help you'\n",
        "  print(hey)\n",
        "  talk(hey)"
      ],
      "metadata": {
        "id": "xvSCiYi2V2co"
      },
      "execution_count": null,
      "outputs": []
    },
    {
      "cell_type": "markdown",
      "source": [
        "Now our Jarvis is totally ready to use and we can automate various tasks and have fun with our voice assistant. We can also customize it according to our requirements by importing other packages like weather, etc."
      ],
      "metadata": {
        "id": "qm6uy_CzV2cp"
      }
    }
  ]
}
